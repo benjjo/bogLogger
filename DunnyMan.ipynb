{
 "cells": [
  {
   "cell_type": "code",
   "execution_count": 11,
   "id": "primary-highlight",
   "metadata": {},
   "outputs": [],
   "source": [
    "import pandas as pd\n",
    "import numpy as np\n",
    "import os\n",
    "import shutil"
   ]
  },
  {
   "cell_type": "code",
   "execution_count": 18,
   "id": "satisfied-indicator",
   "metadata": {},
   "outputs": [],
   "source": [
    "path = os.getcwd()\n",
    "files = os.listdir(path)\n",
    "os.makedirs(path + './.temp/', exist_ok=True)\n",
    "tempDir = path + '/.temp/'"
   ]
  },
  {
   "cell_type": "code",
   "execution_count": 19,
   "id": "mexican-hospital",
   "metadata": {},
   "outputs": [],
   "source": [
    "files = os.listdir(path)\n",
    "files_txt = [f for f in files if f[-13:] == 'WC_Alarms.txt']\n",
    "\n",
    "for file in files_txt: \n",
    "    with open(file) as fin, open(tempDir + 'WC_Alarms.csv', 'w') as fout:\n",
    "        for line in fin.readlines():\n",
    "            fout.write(line.replace('\\t', ','))"
   ]
  },
  {
   "cell_type": "code",
   "execution_count": 20,
   "id": "aging-minutes",
   "metadata": {},
   "outputs": [],
   "source": [
    "tempFile = tempDir + '/WC_Alarms.csv'\n",
    "alarms = pd.read_csv(tempFile, sep=',', names=[\"Time\", \"Mode\", \n",
    "                                           \"Alarm01\", \"Alarm02\", \"Alarm03\", \"Alarm04\", \"Alarm05\", \n",
    "                                           \"Alarm06\", \"Alarm07\", \"Alarm08\", \"Alarm09\", \"Alarm10\" \n",
    "                                           \"Alarm11\", \"Alarm12\", \"Alarm13\", \"Alarm14\", \"Alarm15\"])\n",
    "alarms = alarms.dropna(axis=1, how='all')"
   ]
  },
  {
   "cell_type": "code",
   "execution_count": 8,
   "id": "hawaiian-europe",
   "metadata": {},
   "outputs": [],
   "source": [
    "alarms = alarms.fillna(0)\n",
    "for col in alarms.columns[2:]: \n",
    "    alarms[col] = alarms[col].astype(np.int64)\n",
    "alarms.to_csv('WC_Alarms.csv')"
   ]
  },
  {
   "cell_type": "code",
   "execution_count": 9,
   "id": "veterinary-southeast",
   "metadata": {},
   "outputs": [],
   "source": [
    "overTemp = alarms[(alarms == 29).any(axis=1)]"
   ]
  },
  {
   "cell_type": "code",
   "execution_count": 10,
   "id": "present-central",
   "metadata": {},
   "outputs": [],
   "source": [
    "overTemp.to_csv('OverTempLogs.csv')"
   ]
  },
  {
   "cell_type": "code",
   "execution_count": 21,
   "id": "australian-valuable",
   "metadata": {},
   "outputs": [
    {
     "name": "stdout",
     "output_type": "stream",
     "text": [
      ".tempDir and all of its contents has been deleted.\n"
     ]
    }
   ],
   "source": [
    "try:\n",
    "    shutil.rmtree(tempDir)\n",
    "    print(\".tempDir and all of its contents has been deleted.\")\n",
    "except FileNotFoundError:\n",
    "    print(\".tempDir does not exist\")"
   ]
  },
  {
   "cell_type": "code",
   "execution_count": null,
   "id": "significant-lafayette",
   "metadata": {},
   "outputs": [],
   "source": []
  }
 ],
 "metadata": {
  "kernelspec": {
   "display_name": "Python 3",
   "language": "python",
   "name": "python3"
  },
  "language_info": {
   "codemirror_mode": {
    "name": "ipython",
    "version": 3
   },
   "file_extension": ".py",
   "mimetype": "text/x-python",
   "name": "python",
   "nbconvert_exporter": "python",
   "pygments_lexer": "ipython3",
   "version": "3.9.1"
  }
 },
 "nbformat": 4,
 "nbformat_minor": 5
}
